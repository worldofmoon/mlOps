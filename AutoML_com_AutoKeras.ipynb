{
  "nbformat": 4,
  "nbformat_minor": 0,
  "metadata": {
    "colab": {
      "provenance": []
    },
    "kernelspec": {
      "name": "python3",
      "display_name": "Python 3"
    },
    "language_info": {
      "name": "python"
    }
  },
  "cells": [
    {
      "cell_type": "markdown",
      "source": [
        "# **AutoML com AutoKeras**\n",
        "- O Automated Machine Learning é também conhecido como AutoML;\n",
        "- Ferramentas e serviços que abstraem os detalhes e conhecimentos necessários para se realizar ML/DL;\n",
        "- Automatiza-se determinadas tarefas necessárias no desenvolvimento de algum modelo;\n",
        "- Geralmente, cobrem etapas de normalização de dados e engenharia de “features”; treinamento de modelos de diferentes tipos e com diferentes hiperparâmetros; avaliação e comparação de resultados;\n",
        "- Algumas ferramentas: H2O, AutoKeras e TPOT;\n",
        "\n",
        "- Vantagens:  \n",
        "  - Necessário conhecimento superficial de ML/DL para se utilizar as ferramentas;\n",
        "  - Diminui o tempo para se ter resultados iniciais;\n",
        "  - Pode-se utilizar em diferentes tipos de dados e problemas (baseline);\n",
        "  - Algumas ferramentas possibilitam customizar modelos/layers;\n",
        "- Desvantagens:\n",
        "  - Customização que pode ser limitada ou dificultada;\n",
        "  - Pode-se não obter resultado bom o bastante para o problema, precisando da intervenção de especialistas;\n",
        "\n"
      ],
      "metadata": {
        "id": "R_hwXhTfHh-v"
      }
    },
    {
      "cell_type": "markdown",
      "source": [
        "##**Instalação da biblioteca AutoKeras**"
      ],
      "metadata": {
        "id": "s3c-4WZ6gmmw"
      }
    },
    {
      "cell_type": "code",
      "execution_count": null,
      "metadata": {
        "id": "BpImE2GHOycE"
      },
      "outputs": [],
      "source": [
        "%%capture\n",
        "!pip install autokeras"
      ]
    },
    {
      "cell_type": "markdown",
      "source": [
        "##**Import dos pacotes necessários**"
      ],
      "metadata": {
        "id": "zWe8fVCPgqsL"
      }
    },
    {
      "cell_type": "code",
      "source": [
        "import os\n",
        "import sklearn\n",
        "import tensorflow\n",
        "import pandas as pd\n",
        "import autokeras as ak\n",
        "\n",
        "from tensorflow import keras\n",
        "from keras import preprocessing\n",
        "from sklearn.preprocessing import StandardScaler\n",
        "from sklearn.model_selection import train_test_split"
      ],
      "metadata": {
        "id": "CjP8cFkwOzH9"
      },
      "execution_count": null,
      "outputs": []
    },
    {
      "cell_type": "markdown",
      "source": [
        "##**Cópia do dataset**"
      ],
      "metadata": {
        "id": "YOzF-5yXgwpl"
      }
    },
    {
      "cell_type": "code",
      "source": [
        "%%time\n",
        "!rm -r lectures-cdas-2023\n",
        "!git clone https://github.com/renansantosmendes/lectures-cdas-2023.git"
      ],
      "metadata": {
        "id": "fB7dYyqXO25X"
      },
      "execution_count": null,
      "outputs": []
    },
    {
      "cell_type": "markdown",
      "source": [
        "##**Leitura do dataset em um DataFrame do Pandas**"
      ],
      "metadata": {
        "id": "PQHQlivof6N9"
      }
    },
    {
      "cell_type": "code",
      "source": [
        "data = pd.read_csv(os.path.join('lectures-cdas-2023', 'fetal_health.csv'))"
      ],
      "metadata": {
        "id": "2cpQXl2OPnhn"
      },
      "execution_count": null,
      "outputs": []
    },
    {
      "cell_type": "markdown",
      "source": [
        "##**Processamento dos dados**\n",
        "Nesta célula serão feitos os seguintes passos:\n",
        "- Separação das variáveis de entrada e saída\n",
        "- Padronização dos valores das variáveis de entrada\n",
        "- Separação em dados de treino e teste\n",
        "- Categorização dos dados de saída (a serem preditos)"
      ],
      "metadata": {
        "id": "8FCa1L1zgBDP"
      }
    },
    {
      "cell_type": "code",
      "source": [
        "X=data.drop([\"fetal_health\"], axis=1)\n",
        "y=data[\"fetal_health\"]\n",
        "\n",
        "columns_names = list(X.columns)\n",
        "X_df = StandardScaler().fit_transform(X)\n",
        "X_df = pd.DataFrame(X_df, columns=columns_names)\n",
        "\n",
        "X_train, X_test, y_train, y_test = train_test_split(X_df, y, test_size=0.3, random_state=42)\n",
        "y_train=keras.utils.to_categorical(y_train)[:,1:]\n",
        "y_test=keras.utils.to_categorical(y_test)[:,1:]"
      ],
      "metadata": {
        "id": "UmQ4LCnYX8Gp"
      },
      "execution_count": null,
      "outputs": []
    },
    {
      "cell_type": "markdown",
      "source": [
        "##**Criação do modelo (atualizado)**\n",
        "A partir da versão 2.0.0 do AutoKeras a classe StructuredDataClassifier foi descontinuada e uma forma de contornar é por meio do uso da classe AutoModel em conjunto com a ClassificationHead. Dessa forma o modelo poderá ser treinado conforme o código abaixo"
      ],
      "metadata": {
        "id": "dI-dlOKvfeW8"
      }
    },
    {
      "cell_type": "code",
      "source": [
        "%%time\n",
        "input_node = ak.Input()\n",
        "output_node = ak.ClassificationHead(num_classes=3)(input_node)\n",
        "auto_model = ak.AutoModel(inputs=input_node,\n",
        "                          outputs=output_node,\n",
        "                          max_trials=10,\n",
        "                          overwrite=True)\n",
        "\n",
        "auto_model.fit(X_train.values, y_train, epochs=10)"
      ],
      "metadata": {
        "id": "z0zBedX1XjsJ"
      },
      "execution_count": null,
      "outputs": []
    },
    {
      "cell_type": "markdown",
      "source": [
        "##**Exportando o melhor modelo encontrado até o momento**"
      ],
      "metadata": {
        "id": "YGa6eAZhg3-R"
      }
    },
    {
      "cell_type": "code",
      "source": [
        "model = auto_model.export_model()"
      ],
      "metadata": {
        "id": "Gvcn5ij8-cVy"
      },
      "execution_count": null,
      "outputs": []
    },
    {
      "cell_type": "markdown",
      "source": [
        "##**Vendo o resumo do melhor modelo**"
      ],
      "metadata": {
        "id": "ta4JnIQ8g7oc"
      }
    },
    {
      "cell_type": "code",
      "source": [
        "model.summary()"
      ],
      "metadata": {
        "id": "AW-bYXRuyxvm"
      },
      "execution_count": null,
      "outputs": []
    },
    {
      "cell_type": "markdown",
      "source": [
        "##**Avaliando o modelo encontrado com os dados de teste**"
      ],
      "metadata": {
        "id": "_uwKN6CkhAnF"
      }
    },
    {
      "cell_type": "code",
      "source": [
        "model.evaluate(X_test, y_test)"
      ],
      "metadata": {
        "id": "gOn3uquJyzqf"
      },
      "execution_count": null,
      "outputs": []
    }
  ]
}